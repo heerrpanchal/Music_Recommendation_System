{
 "cells": [
  {
   "cell_type": "code",
   "execution_count": 1,
   "id": "7420eed6-7f61-4fe1-95a9-454c07eec870",
   "metadata": {},
   "outputs": [],
   "source": [
    "import pandas as pd"
   ]
  },
  {
   "cell_type": "code",
   "execution_count": 2,
   "id": "c09d2327-ece5-4ea9-b860-938a77c15968",
   "metadata": {},
   "outputs": [],
   "source": [
    "df = pd.read_csv(\"spotify_millsongdata.csv\")"
   ]
  },
  {
   "cell_type": "code",
   "execution_count": 3,
   "id": "891a36da-c1a5-4957-914b-5dd90a16bf4d",
   "metadata": {},
   "outputs": [],
   "source": [
    "df =df.sample(5000).drop('link', axis=1).reset_index(drop=True)"
   ]
  },
  {
   "cell_type": "code",
   "execution_count": 4,
   "id": "0bbb9ed3-f1c8-4e83-acd1-ee00b251220e",
   "metadata": {},
   "outputs": [
    {
     "data": {
      "text/html": [
       "<div>\n",
       "<style scoped>\n",
       "    .dataframe tbody tr th:only-of-type {\n",
       "        vertical-align: middle;\n",
       "    }\n",
       "\n",
       "    .dataframe tbody tr th {\n",
       "        vertical-align: top;\n",
       "    }\n",
       "\n",
       "    .dataframe thead th {\n",
       "        text-align: right;\n",
       "    }\n",
       "</style>\n",
       "<table border=\"1\" class=\"dataframe\">\n",
       "  <thead>\n",
       "    <tr style=\"text-align: right;\">\n",
       "      <th></th>\n",
       "      <th>artist</th>\n",
       "      <th>song</th>\n",
       "      <th>text</th>\n",
       "    </tr>\n",
       "  </thead>\n",
       "  <tbody>\n",
       "    <tr>\n",
       "      <th>0</th>\n",
       "      <td>Unkle</td>\n",
       "      <td>Be There</td>\n",
       "      <td>You don't want to go there  \\r\\nLet me lead yo...</td>\n",
       "    </tr>\n",
       "    <tr>\n",
       "      <th>1</th>\n",
       "      <td>Insane Clown Posse</td>\n",
       "      <td>High Rise</td>\n",
       "      <td>\\r\\n  \\r\\n  \\r\\nThe Floor 'round His Body Sl...</td>\n",
       "    </tr>\n",
       "    <tr>\n",
       "      <th>2</th>\n",
       "      <td>Zazie</td>\n",
       "      <td>Duo</td>\n",
       "      <td>Oui  \\r\\nJe sens le vent  \\r\\nJe sens la pluie...</td>\n",
       "    </tr>\n",
       "    <tr>\n",
       "      <th>3</th>\n",
       "      <td>Jimmy Buffett</td>\n",
       "      <td>Distantly In Love</td>\n",
       "      <td>Pay phones all were ringing as the crowd went ...</td>\n",
       "    </tr>\n",
       "    <tr>\n",
       "      <th>4</th>\n",
       "      <td>Tragically Hip</td>\n",
       "      <td>Country Day</td>\n",
       "      <td>Country day  \\r\\nA day in the unknown  \\r\\nA g...</td>\n",
       "    </tr>\n",
       "    <tr>\n",
       "      <th>5</th>\n",
       "      <td>Nazareth</td>\n",
       "      <td>Paper Sun</td>\n",
       "      <td>Theres a paper sun  \\r\\nIn a paper sky  \\r\\nTh...</td>\n",
       "    </tr>\n",
       "    <tr>\n",
       "      <th>6</th>\n",
       "      <td>Slayer</td>\n",
       "      <td>Threshold</td>\n",
       "      <td>I don't want to see, I don't want to hear  \\r\\...</td>\n",
       "    </tr>\n",
       "    <tr>\n",
       "      <th>7</th>\n",
       "      <td>Indiana Bible College</td>\n",
       "      <td>Give Him Praise</td>\n",
       "      <td>Chorus  \\r\\nWe've come to give Him glory  \\r\\n...</td>\n",
       "    </tr>\n",
       "    <tr>\n",
       "      <th>8</th>\n",
       "      <td>Donna Summer</td>\n",
       "      <td>One Night In A Lifetime</td>\n",
       "      <td>There's more to question than answers  \\r\\nand...</td>\n",
       "    </tr>\n",
       "    <tr>\n",
       "      <th>9</th>\n",
       "      <td>Queens Of The Stone Age</td>\n",
       "      <td>Avon</td>\n",
       "      <td>I see you go  \\r\\nThrough a park in a haze  \\r...</td>\n",
       "    </tr>\n",
       "  </tbody>\n",
       "</table>\n",
       "</div>"
      ],
      "text/plain": [
       "                    artist                     song  \\\n",
       "0                    Unkle                 Be There   \n",
       "1       Insane Clown Posse                High Rise   \n",
       "2                    Zazie                      Duo   \n",
       "3            Jimmy Buffett        Distantly In Love   \n",
       "4           Tragically Hip              Country Day   \n",
       "5                 Nazareth                Paper Sun   \n",
       "6                   Slayer                Threshold   \n",
       "7    Indiana Bible College          Give Him Praise   \n",
       "8             Donna Summer  One Night In A Lifetime   \n",
       "9  Queens Of The Stone Age                     Avon   \n",
       "\n",
       "                                                text  \n",
       "0  You don't want to go there  \\r\\nLet me lead yo...  \n",
       "1    \\r\\n  \\r\\n  \\r\\nThe Floor 'round His Body Sl...  \n",
       "2  Oui  \\r\\nJe sens le vent  \\r\\nJe sens la pluie...  \n",
       "3  Pay phones all were ringing as the crowd went ...  \n",
       "4  Country day  \\r\\nA day in the unknown  \\r\\nA g...  \n",
       "5  Theres a paper sun  \\r\\nIn a paper sky  \\r\\nTh...  \n",
       "6  I don't want to see, I don't want to hear  \\r\\...  \n",
       "7  Chorus  \\r\\nWe've come to give Him glory  \\r\\n...  \n",
       "8  There's more to question than answers  \\r\\nand...  \n",
       "9  I see you go  \\r\\nThrough a park in a haze  \\r...  "
      ]
     },
     "execution_count": 4,
     "metadata": {},
     "output_type": "execute_result"
    }
   ],
   "source": [
    "df.head(10)"
   ]
  },
  {
   "cell_type": "code",
   "execution_count": 5,
   "id": "42d77a46-e497-4dd2-84fa-b4727fff62fd",
   "metadata": {},
   "outputs": [],
   "source": [
    "df['text'] = df['text'].str.lower().replace(r'^\\w\\s', ' ').replace(r'\\n', ' ', regex = True)"
   ]
  },
  {
   "cell_type": "code",
   "execution_count": 6,
   "id": "b26a514e-64e2-43a3-b400-b51c879bf359",
   "metadata": {},
   "outputs": [
    {
     "data": {
      "text/plain": [
       "0       you don't want to go there  \\r let me lead you...\n",
       "1         \\r   \\r   \\r the floor 'round his body slowl...\n",
       "2       oui  \\r je sens le vent  \\r je sens la pluie  ...\n",
       "3       pay phones all were ringing as the crowd went ...\n",
       "4       country day  \\r a day in the unknown  \\r a gen...\n",
       "                              ...                        \n",
       "4995    they say you never come home, boy you been dri...\n",
       "4996    gabe:  \\r i am what you want me to be,  \\r and...\n",
       "4997    lonfellow serenade  \\r such were the plans i'd...\n",
       "4998    even the bad times are good  \\r if there's a c...\n",
       "4999    new feeling inside  \\r it's a hot certain kind...\n",
       "Name: text, Length: 5000, dtype: object"
      ]
     },
     "execution_count": 6,
     "metadata": {},
     "output_type": "execute_result"
    }
   ],
   "source": [
    "df['text']"
   ]
  },
  {
   "cell_type": "code",
   "execution_count": 7,
   "id": "4aba17b2",
   "metadata": {},
   "outputs": [],
   "source": [
    "#df = df.sample(15000)"
   ]
  },
  {
   "cell_type": "code",
   "execution_count": 8,
   "id": "56138f84",
   "metadata": {},
   "outputs": [
    {
     "data": {
      "text/plain": [
       "(5000, 3)"
      ]
     },
     "execution_count": 8,
     "metadata": {},
     "output_type": "execute_result"
    }
   ],
   "source": [
    "df.shape"
   ]
  },
  {
   "cell_type": "markdown",
   "id": "9a0f9075-a0d9-48e8-91c3-d2f41c3e64fb",
   "metadata": {},
   "source": [
    "pip install nltk"
   ]
  },
  {
   "cell_type": "code",
   "execution_count": 9,
   "id": "a8c6bc0f-56c2-432d-a989-d3a8a6f12153",
   "metadata": {},
   "outputs": [],
   "source": [
    "import nltk\n",
    "from nltk.stem.porter import PorterStemmer"
   ]
  },
  {
   "cell_type": "code",
   "execution_count": 10,
   "id": "a0b972f9-bc8b-409c-b97a-cadfcb019d6b",
   "metadata": {},
   "outputs": [],
   "source": [
    "stemmer = PorterStemmer()"
   ]
  },
  {
   "cell_type": "code",
   "execution_count": 11,
   "id": "0ff94261-72b9-4dbb-b53d-e840293a7065",
   "metadata": {},
   "outputs": [],
   "source": [
    "def tokenization(txt):\n",
    "    tokens = nltk.word_tokenize(txt)\n",
    "    stemming = [stemmer.stem(w) for w in tokens]\n",
    "    return \" \".join(stemming)"
   ]
  },
  {
   "cell_type": "code",
   "execution_count": 12,
   "id": "b967dd95-1720-4e55-aa10-107c49e0b905",
   "metadata": {},
   "outputs": [],
   "source": [
    "#pip install sklearn"
   ]
  },
  {
   "cell_type": "code",
   "execution_count": 13,
   "id": "35f1caff-c8be-4590-bd22-5ed9ba2fbbb4",
   "metadata": {},
   "outputs": [],
   "source": [
    "from sklearn.feature_extraction.text import TfidfVectorizer\n",
    "from sklearn.metrics.pairwise import cosine_similarity"
   ]
  },
  {
   "cell_type": "code",
   "execution_count": 14,
   "id": "bbbd6a12-497f-4e44-b8c8-54d5779d61b8",
   "metadata": {},
   "outputs": [],
   "source": [
    "tfidvector = TfidfVectorizer(analyzer='word',stop_words='english')\n",
    "matrix = tfidvector.fit_transform(df['text'])\n",
    "similarity = cosine_similarity(matrix)"
   ]
  },
  {
   "cell_type": "code",
   "execution_count": 15,
   "id": "f2bf8ac3-a464-470e-8744-532cdf57b6fa",
   "metadata": {},
   "outputs": [
    {
     "data": {
      "text/plain": [
       "array([1.        , 0.04153566, 0.0127666 , ..., 0.00538984, 0.02078091,\n",
       "       0.01290196])"
      ]
     },
     "execution_count": 15,
     "metadata": {},
     "output_type": "execute_result"
    }
   ],
   "source": [
    "similarity[0]"
   ]
  },
  {
   "cell_type": "code",
   "execution_count": 16,
   "id": "5e3c8b0a-997a-43cb-b3a9-58cff3d59212",
   "metadata": {},
   "outputs": [],
   "source": [
    "def recommendation(song_df):\n",
    "    idx = df[df['song'] == song_df].index[0]\n",
    "    distances = sorted(list(enumerate(similarity[idx])),reverse=True,key=lambda x:x[1])\n",
    "    \n",
    "    songs = []\n",
    "    for m_id in distances[1:21]:\n",
    "        songs.append(df.iloc[m_id[0]].song)\n",
    "        \n",
    "    return songs"
   ]
  },
  {
   "cell_type": "code",
   "execution_count": 17,
   "id": "f8a29405",
   "metadata": {},
   "outputs": [],
   "source": [
    "#recommendation(\"Gonna Get This\")"
   ]
  },
  {
   "cell_type": "code",
   "execution_count": 18,
   "id": "77ebb7cc-b546-4bd0-8920-2435b44f88e6",
   "metadata": {},
   "outputs": [],
   "source": [
    "import pickle\n",
    "pickle.dump(similarity,open('similarity.pkl','wb'))\n",
    "pickle.dump(df,open('df.pkl','wb'))"
   ]
  }
 ],
 "metadata": {
  "kernelspec": {
   "display_name": "Python 3 (ipykernel)",
   "language": "python",
   "name": "python3"
  },
  "language_info": {
   "codemirror_mode": {
    "name": "ipython",
    "version": 3
   },
   "file_extension": ".py",
   "mimetype": "text/x-python",
   "name": "python",
   "nbconvert_exporter": "python",
   "pygments_lexer": "ipython3",
   "version": "3.11.5"
  }
 },
 "nbformat": 4,
 "nbformat_minor": 5
}
